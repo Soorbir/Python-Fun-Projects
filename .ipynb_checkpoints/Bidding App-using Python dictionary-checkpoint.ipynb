{
 "cells": [
  {
   "cell_type": "code",
   "execution_count": 8,
   "metadata": {},
   "outputs": [],
   "source": [
    "from art import *\n",
    "logo = '''\n",
    "                         ___________\n",
    "                         \\         /\n",
    "                          )_______(\n",
    "                          |\"\"\"\"\"\"\"|_.-._,.---------.,_.-._\n",
    "                          |       | | |               | | ''-.\n",
    "                          |       |_| |_             _| |_..-'\n",
    "                          |_______| '-' `'---------'` '-'\n",
    "                          )\"\"\"\"\"\"\"(\n",
    "                         /_________\\\\\n",
    "                       .-------------.\n",
    "                      /_______________\\\\\n",
    "'''"
   ]
  },
  {
   "cell_type": "code",
   "execution_count": 28,
   "metadata": {},
   "outputs": [
    {
     "name": "stdout",
     "output_type": "stream",
     "text": [
      "                                                                                                        \n",
      "8 888888888o    8 8888 8 888888888o.      8 888888888o.       8 8888 b.             8     ,o888888o.    \n",
      "8 8888    `88.  8 8888 8 8888    `^888.   8 8888    `^888.    8 8888 888o.          8    8888     `88.  \n",
      "8 8888     `88  8 8888 8 8888        `88. 8 8888        `88.  8 8888 Y88888o.       8 ,8 8888       `8. \n",
      "8 8888     ,88  8 8888 8 8888         `88 8 8888         `88  8 8888 .`Y888888o.    8 88 8888           \n",
      "8 8888.   ,88'  8 8888 8 8888          88 8 8888          88  8 8888 8o. `Y888888o. 8 88 8888           \n",
      "8 8888888888    8 8888 8 8888          88 8 8888          88  8 8888 8`Y8o. `Y88888o8 88 8888           \n",
      "8 8888    `88.  8 8888 8 8888         ,88 8 8888         ,88  8 8888 8   `Y8o. `Y8888 88 8888   8888888 \n",
      "8 8888      88  8 8888 8 8888        ,88' 8 8888        ,88'  8 8888 8      `Y8o. `Y8 `8 8888       .8' \n",
      "8 8888    ,88'  8 8888 8 8888    ,o88P'   8 8888    ,o88P'    8 8888 8         `Y8o.`    8888     ,88'  \n",
      "8 888888888P    8 8888 8 888888888P'      8 888888888P'       8 8888 8            `Yo     `8888888P'    \n",
      "\n",
      "\n",
      "                         ___________\n",
      "                         \\         /\n",
      "                          )_______(\n",
      "                          |\"\"\"\"\"\"\"|_.-._,.---------.,_.-._\n",
      "                          |       | | |               | | ''-.\n",
      "                          |       |_| |_             _| |_..-'\n",
      "                          |_______| '-' `'---------'` '-'\n",
      "                          )\"\"\"\"\"\"\"(\n",
      "                         /_________\\\n",
      "                       .-------------.\n",
      "                      /_______________\\\n",
      "\n"
     ]
    }
   ],
   "source": [
    "tprint(\"Bidding\",font=\"random\")\n",
    "print(logo)"
   ]
  },
  {
   "cell_type": "code",
   "execution_count": 14,
   "metadata": {},
   "outputs": [
    {
     "name": "stdout",
     "output_type": "stream",
     "text": [
      "What is your name?: Gurvinder\n",
      "What is your bid?: $32\n",
      "Is there any other bidders? Type \"Yes\" or \"No\".Yes\n",
      "\u001b[H\u001b[2JWhat is your name?: Jaswinder\n",
      "What is your bid?: $23\n",
      "Is there any other bidders? Type \"Yes\" or \"No\".yes\n",
      "What is your name?: Jassi\n",
      "What is your bid?: $232\n",
      "Is there any other bidders? Type \"Yes\" or \"No\".Yes\n",
      "\u001b[H\u001b[2JWhat is your name?: Harpreet\n",
      "What is your bid?: $430\n",
      "Is there any other bidders? Type \"Yes\" or \"No\".No\n",
      "The winner is Harpreet with bid of $430.\n"
     ]
    }
   ],
   "source": [
    "from replit import clear #This will work in console if we want to clear the bid and the name of bidder.\n",
    "\n",
    "should_continue=True         #turning should_continue TRUE which would act the basis of while loop.\n",
    "\n",
    "bidders_list={}             #creating an empty dictionary which is going to take list of bidders and their bid.\n",
    "\n",
    "while should_continue:   \n",
    "   \n",
    "    def bid(Name,bid):         #Created function that will add the bidder's name and their bid to dictionary,as key,value. \n",
    "        bidders_list[Name]=bid\n",
    "        \n",
    "    name=input('What is your name?: ')\n",
    "    bidd=input('What is your bid?: $')\n",
    "    \n",
    "    bid(Name=name,bid=int(bidd))\n",
    "    #Adding the user input to function that adds the values to the dictionary \n",
    "\n",
    "    again=input('Is there any other bidders? Type \"Yes\" or \"No\".\\n')\n",
    "    #Checking if there is any other bidder\n",
    "            \n",
    "    if again=='Yes':\n",
    "        clear()\n",
    "    #this  clear() fn would work in console that will clear the previous bidder's name and their bid,\n",
    "    #maintaining the bidding rules.\n",
    "    \n",
    "    elif again==\"No\":  \n",
    "        #if user entered \"No\" in input then this is gonna turn should_continue to FALSE and while loop will end.\n",
    "        #and user with the highest bid would be printed with value of bid \n",
    "        should_continue=False\n",
    "        \n",
    "        for key, value in bidders_list.items():\n",
    "            #iterating through bidders_list.items() for the keys and values:\n",
    "            \n",
    "            if value == max(bidders_list.values()):\n",
    "                 # then  checking the maximum bid: max(bidders_list.values())\n",
    "                # then fetching the key for the maximum bid, that is name of the bidder.\n",
    "                \n",
    "                print(f'\\nThe winner is {key} with bid of ${value}.')"
   ]
  },
  {
   "cell_type": "code",
   "execution_count": null,
   "metadata": {},
   "outputs": [],
   "source": []
  }
 ],
 "metadata": {
  "kernelspec": {
   "display_name": "Python 3",
   "language": "python",
   "name": "python3"
  },
  "language_info": {
   "codemirror_mode": {
    "name": "ipython",
    "version": 3
   },
   "file_extension": ".py",
   "mimetype": "text/x-python",
   "name": "python",
   "nbconvert_exporter": "python",
   "pygments_lexer": "ipython3",
   "version": "3.8.5"
  }
 },
 "nbformat": 4,
 "nbformat_minor": 4
}
