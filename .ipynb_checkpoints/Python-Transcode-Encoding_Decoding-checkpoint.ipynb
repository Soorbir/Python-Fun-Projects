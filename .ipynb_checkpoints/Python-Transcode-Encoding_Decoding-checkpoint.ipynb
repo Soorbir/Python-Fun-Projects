{
 "cells": [
  {
   "cell_type": "code",
   "execution_count": 4,
   "metadata": {},
   "outputs": [
    {
     "name": "stdout",
     "output_type": "stream",
     "text": [
      "Please enter the transcode type for message: encode or decode \n",
      "encode\n",
      "Please enter the word to transcode: \n",
      "Civilazation!@412opt AroundThe!9881Ya\n",
      " Please Enter the Shift for word: \n",
      "5\n",
      "Your Encoded version of word by 5 shifts is: hnanqfefynts!@412tuy fwtzsiymj!9881df.\n",
      "\n",
      "Start Again? Y or N \n",
      "Y\n",
      "Please enter the transcode type for message: encode or decode \n",
      "decode\n",
      "Please enter the word to transcode: \n",
      "hnanqfefynts!@412tuy fwtzsiymj!9881df\n",
      " Please Enter the Shift for word: \n",
      "5\n",
      "Your Encoded version of word by -5 shifts is: civilazation!@412opt aroundthe!9881ya.\n",
      "\n",
      "Start Again? Y or N \n",
      "N\n",
      "Good Bye!\n"
     ]
    }
   ],
   "source": [
    "transcode=input('Please enter the transcode type for message: encode or decode \\n')\n",
    "word=input('Please enter the word to transcode: \\n').lower()\n",
    "shift=int(input(' Please Enter the Shift for word: \\n'))\n",
    "alphabet = ['a', 'b', 'c', 'd', 'e', 'f', 'g', 'h', 'i', 'j', 'k', 'l', 'm', 'n', 'o', 'p', 'q', 'r',\n",
    "            's', 't', 'u', 'v', 'w', 'x', 'y', 'z']\n",
    "\n",
    "\n",
    "def transcoder(transcode,word,shift):\n",
    "    \n",
    "    if transcode=='decode':shift*=-1\n",
    "    \n",
    "    final_word=''\n",
    "    \n",
    "    for i in word:\n",
    "        if i in alphabet:\n",
    "            final_word+=alphabet[(alphabet.index(i)+shift)%26]\n",
    "        else:final_word+=i\n",
    "    \n",
    "    print(f'Your Encoded version of word by {shift} shifts is: {final_word}\\n')\n",
    "    \n",
    "    Continue=input('Start Again? Y or N \\n')\n",
    "    \n",
    "    if Continue=='Y':\n",
    "        \n",
    "        transcode=input('Please enter the transcode type for message: encode or decode \\n')\n",
    "        word=input('Please enter the word to transcode: \\n').lower()\n",
    "        shift=int(input(' Please Enter the Shift for word: \\n'))\n",
    "\n",
    "        transcoder(transcode=transcode,word=word,shift=shift)\n",
    "        \n",
    "    else:print('Good Bye!')\n",
    "\n",
    "transcoder(transcode=transcode,word=word,shift=shift)\n",
    "        "
   ]
  },
  {
   "cell_type": "code",
   "execution_count": null,
   "metadata": {},
   "outputs": [],
   "source": []
  }
 ],
 "metadata": {
  "kernelspec": {
   "display_name": "Python 3",
   "language": "python",
   "name": "python3"
  },
  "language_info": {
   "codemirror_mode": {
    "name": "ipython",
    "version": 3
   },
   "file_extension": ".py",
   "mimetype": "text/x-python",
   "name": "python",
   "nbconvert_exporter": "python",
   "pygments_lexer": "ipython3",
   "version": "3.8.5"
  }
 },
 "nbformat": 4,
 "nbformat_minor": 4
}
