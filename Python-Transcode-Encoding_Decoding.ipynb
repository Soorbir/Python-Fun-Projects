{
 "cells": [
  {
   "cell_type": "code",
   "execution_count": 3,
   "metadata": {},
   "outputs": [
    {
     "name": "stdout",
     "output_type": "stream",
     "text": [
      "Please enter the transcode type for message: encode or decode encode\n",
      "Please enter the word to transcode: hello\n",
      " Please Enter the Shift for word:5\n",
      "mjqqt\n",
      "Start Again? Y or N Y\n",
      "Please enter the transcode type for message: encode or decodedecode\n",
      "Please enter the word: mjqqt\n",
      "Enter Shift:5\n",
      "hello\n",
      "Start Again? Y or N N\n",
      "Good Bye!\n"
     ]
    }
   ],
   "source": [
    "transcode=input('Please enter the transcode type for message: encode or decode ')\n",
    "word=input('Please enter the word to transcode: ').lower()\n",
    "shift=int(input(' Please Enter the Shift for word:'))\n",
    "alphabet = ['a', 'b', 'c', 'd', 'e', 'f', 'g', 'h', 'i', 'j', 'k', 'l', 'm', 'n', 'o', 'p', 'q', 'r',\n",
    "            's', 't', 'u', 'v', 'w', 'x', 'y', 'z']\n",
    "\n",
    "\n",
    "def transcoder(transcode,word,shift):\n",
    "    \n",
    "    if transcode=='decode':shift*=-1\n",
    "    \n",
    "    final_word=''\n",
    "    \n",
    "    for i in word:\n",
    "        if i in alphabet:\n",
    "            final_word+=alphabet[(alphabet.index(i)+shift)%26]\n",
    "        else:final_word+=i\n",
    "    \n",
    "    print(final_word)\n",
    "    \n",
    "    Continue=input('Start Again? Y or N ')\n",
    "    \n",
    "    if Continue=='Y':\n",
    "        \n",
    "        transcode=input('Please enter the transcode type for message: encode or decode')\n",
    "        word=input('Please enter the word: ').lower()\n",
    "        shift=int(input('Enter Shift:'))\n",
    "\n",
    "        transcoder(transcode=transcode,word=word,shift=shift)\n",
    "        \n",
    "    else:print('Good Bye!')\n",
    "\n",
    "transcoder(transcode=transcode,word=word,shift=shift)\n",
    "        "
   ]
  },
  {
   "cell_type": "code",
   "execution_count": null,
   "metadata": {},
   "outputs": [],
   "source": []
  }
 ],
 "metadata": {
  "kernelspec": {
   "display_name": "Python 3",
   "language": "python",
   "name": "python3"
  },
  "language_info": {
   "codemirror_mode": {
    "name": "ipython",
    "version": 3
   },
   "file_extension": ".py",
   "mimetype": "text/x-python",
   "name": "python",
   "nbconvert_exporter": "python",
   "pygments_lexer": "ipython3",
   "version": "3.8.5"
  }
 },
 "nbformat": 4,
 "nbformat_minor": 4
}
