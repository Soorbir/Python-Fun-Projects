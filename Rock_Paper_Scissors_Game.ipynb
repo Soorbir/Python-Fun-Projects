{
 "cells": [
  {
   "cell_type": "code",
   "execution_count": 39,
   "id": "18dff5d5",
   "metadata": {},
   "outputs": [
    {
     "name": "stdout",
     "output_type": "stream",
     "text": [
      "(O))  ((O)          W  W       c  c      .-.     \\\\\\    ///           (o)__(o)     .-.     \n",
      " ||    ||    wWw   (O)(O)      (OO)    c(O_O)c   ((O)  (O))   wWw     (__  __)   c(O_O)c   \n",
      " || /\\ ||    (O)_    ||      ,'.--.)  ,'.---.`,   | \\  / |    (O)_      (  )    ,'.---.`,  \n",
      " ||//\\\\||   .' __)   | \\    / //_|_\\ / /|_|_|\\ \\  ||\\\\//||   .' __)      )(    / /|_|_|\\ \\ \n",
      " / /  \\ \\  (  _)     |  `.  | \\___   | \\_____/ |  || \\/ ||  (  _)       (  )   | \\_____/ | \n",
      "( /    \\ )  `.__)   (.-.__) '.    )  '. `---' .`  ||    ||   `.__)       )/    '. `---' .` \n",
      " )      (            `-'      `-.'     `-...-'   (_/    \\_)             (        `-...-'   \n",
      " ))         .-.        c  c         _  \n",
      "(Oo)-.    c(O_O)c      (OO)  (OO) .' ) \n",
      " | (_))  ,'.---.`,   ,'.--.)  ||_/ .'  \n",
      " |  .'  / /|_|_|\\ \\ / //_|_\\  |   /    \n",
      " )|\\\\   | \\_____/ | | \\___    ||\\ \\    \n",
      "(/  \\)  '. `---' .` '.    )  (/\\)\\ `.  \n",
      " )        `-...-'     `-.'        `._) \n",
      " ))              ))              ))          c  c  wW  Ww   oo_      oo_        .-.      ))       oo_    \n",
      "(o0)-.     /)   (o0)-.    wWw   (Oo)-.       (OO)  (O)(O)  /  _)-<  /  _)-<   c(O_O)c   (Oo)-.   /  _)-< \n",
      " | (_))  (o)(O)  | (_))   (O)_   | (_))    ,'.--.)  (..)   \\__ `.   \\__ `.   ,'.---.`,   | (_))  \\__ `.  \n",
      " | .-'    //\\\\   | .-'   .' __)  |  .'    / //_|_\\   ||       `. |     `. | / /|_|_|\\ \\  |  .'      `. | \n",
      " |(      |(__)|  |(     (  _)    )|\\\\     | \\___    _||_      _| |     _| | | \\_____/ |  )|\\\\       _| | \n",
      "  \\)     /,-. |   \\)     `.__)  (/  \\)    '.    )  (_/\\_)  ,-'   |  ,-'   | '. `---' .` (/  \\)   ,-'   | \n",
      "  (     -'   ''   (              )          `-.'          (_..--'  (_..--'    `-...-'    )      (_..--'  \n",
      "    \\/            \\\\\\    ///         \n",
      "   (OO)      /)   ((O)  (O))   wWw   \n",
      " ,'.--.)   (o)(O)  | \\  / |    (O)_  \n",
      "/ /|_|_\\    //\\\\   ||\\\\//||   .' __) \n",
      "| \\_.--.   |(__)|  || \\/ ||  (  _)   \n",
      "'.   \\) \\  /,-. |  ||    ||   `.__)  \n",
      "  `-.(_.' -'   '' (_/    \\_)         \n",
      "\n"
     ]
    }
   ],
   "source": [
    "#pip install art\n",
    "from art import *\n",
    "tprint(\"Welcome To\\nRock\\nPaper Cissors\\nGAME\", font='random')"
   ]
  },
  {
   "cell_type": "code",
   "execution_count": 31,
   "id": "eb8c1f4a",
   "metadata": {},
   "outputs": [
    {
     "name": "stdout",
     "output_type": "stream",
     "text": [
      " What do you Choose? Type 0 for rock, 1 for Paper, 2 for Scissors. \n",
      "0\n",
      "You Choose:\n",
      "\n",
      "    _______\n",
      "---'   ____)\n",
      "      (_____)\n",
      "      (_____)\n",
      "      (____)\n",
      "---.__(___)\n",
      "\n",
      "Computer Choose:\n",
      "\n",
      "    _______\n",
      "---'   ____)____\n",
      "          ______)\n",
      "          _______)\n",
      "         _______)\n",
      "---.__________)\n",
      "\n",
      "You lost\n"
     ]
    }
   ],
   "source": [
    "rock = '''\n",
    "    _______\n",
    "---'   ____)\n",
    "      (_____)\n",
    "      (_____)\n",
    "      (____)\n",
    "---.__(___)\n",
    "'''\n",
    "\n",
    "paper = '''\n",
    "    _______\n",
    "---'   ____)____\n",
    "          ______)\n",
    "          _______)\n",
    "         _______)\n",
    "---.__________)\n",
    "'''\n",
    "\n",
    "scissors = '''\n",
    "    _______\n",
    "---'   ____)____\n",
    "          ______)\n",
    "       __________)\n",
    "      (____)\n",
    "---.__(___)\n",
    "'''\n",
    "\n",
    "image=[rock,paper,scissors]\n",
    "\n",
    "import random\n",
    "a=int(input(' What do you Choose? Type 0 for rock, 1 for Paper, 2 for Scissors. \\n'))\n",
    "b=random.randint(0,2)\n",
    "image=[rock,paper,scissors]\n",
    "\n",
    "if a<0 or a>2:\n",
    "    print('You lost, you enter an invalid number.')\n",
    "else:\n",
    "    \n",
    "    print('You Choose:\\n'+image[a]+'\\nComputer Choose:\\n'+image[b])\n",
    "\n",
    "    if a==0 and b==2:\n",
    "        print('You win')\n",
    "    elif a==1 and b==0:\n",
    "        print('You win')\n",
    "    elif a==2 and b==1:\n",
    "        print('You win')\n",
    "    elif a==b:\n",
    "        print('It\\'s a draw')\n",
    "    else:\n",
    "        print('You lost')"
   ]
  }
 ],
 "metadata": {
  "kernelspec": {
   "display_name": "Python 3",
   "language": "python",
   "name": "python3"
  },
  "language_info": {
   "codemirror_mode": {
    "name": "ipython",
    "version": 3
   },
   "file_extension": ".py",
   "mimetype": "text/x-python",
   "name": "python",
   "nbconvert_exporter": "python",
   "pygments_lexer": "ipython3",
   "version": "3.8.5"
  }
 },
 "nbformat": 4,
 "nbformat_minor": 5
}
